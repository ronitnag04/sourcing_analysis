{
 "cells": [
  {
   "cell_type": "code",
   "execution_count": 8,
   "metadata": {},
   "outputs": [],
   "source": [
    "import requests\n",
    "from keys import NOTION_TOKEN, DATABASE_ID\n",
    "import numpy as np\n",
    "import pandas as pd\n",
    "import os\n"
   ]
  },
  {
   "cell_type": "code",
   "execution_count": 9,
   "metadata": {},
   "outputs": [],
   "source": [
    "headers = {\n",
    "    \"Authorization\": \"Bearer \" + NOTION_TOKEN,\n",
    "    \"Content-Type\": \"application/json\",\n",
    "    \"Notion-Version\": \"2022-06-28\",\n",
    "}"
   ]
  },
  {
   "cell_type": "code",
   "execution_count": 10,
   "metadata": {},
   "outputs": [],
   "source": [
    "def get_pages(num_pages=None):\n",
    "    url = f\"https://api.notion.com/v1/databases/{DATABASE_ID}/query\"\n",
    "\n",
    "    get_all = num_pages is None\n",
    "    page_size = 100 if get_all else num_pages\n",
    "\n",
    "    payload = {\"page_size\": page_size}\n",
    "    response = requests.post(url, json=payload, headers=headers)\n",
    "\n",
    "    data = response.json()\n",
    "\n",
    "    # Comment this out to dump all data to a file\n",
    "    # import json\n",
    "    # with open('db.json', 'w', encoding='utf8') as f:\n",
    "    #    json.dump(data, f, ensure_ascii=False, indent=4)\n",
    "\n",
    "    results = data[\"results\"]\n",
    "    while data[\"has_more\"] and get_all:\n",
    "        payload = {\"page_size\": page_size, \"start_cursor\": data[\"next_cursor\"]}\n",
    "        url = f\"https://api.notion.com/v1/databases/{DATABASE_ID}/query\"\n",
    "        response = requests.post(url, json=payload, headers=headers)\n",
    "        data = response.json()\n",
    "        results.extend(data[\"results\"])\n",
    "\n",
    "    return results"
   ]
  },
  {
   "cell_type": "code",
   "execution_count": 11,
   "metadata": {},
   "outputs": [],
   "source": [
    "existing_names = {}\n",
    "def get_name(user_id: str) -> str:\n",
    "    if user_id in existing_names:\n",
    "        return existing_names[user_id]\n",
    "    url = f'https://api.notion.com/v1/users/{user_id}'\n",
    "    response = requests.get(url, headers=headers)\n",
    "    data = response.json()\n",
    "    name = data['name']\n",
    "    existing_names[user_id] = name\n",
    "    return name"
   ]
  },
  {
   "cell_type": "code",
   "execution_count": 12,
   "metadata": {},
   "outputs": [],
   "source": [
    "def get_sourcer_name(props):\n",
    "    try:\n",
    "       return get_name(props['Sourcer Name']['people'][0]['id'])\n",
    "    except:\n",
    "        return None\n",
    "\n",
    "def get_sourcing_week(props):\n",
    "    try:\n",
    "        return props['Sourcing Week']['select']['name']\n",
    "    except:\n",
    "        return None\n",
    "\n",
    "def get_contacts(props):\n",
    "    try:\n",
    "        return props['Contacts']['number']\n",
    "    except:\n",
    "        return None\n",
    "\n",
    "def get_company(props):\n",
    "    try:\n",
    "        return props['Company']['title'][0]['text']['content']\n",
    "    except:\n",
    "        return None"
   ]
  },
  {
   "cell_type": "code",
   "execution_count": 15,
   "metadata": {},
   "outputs": [],
   "source": [
    "pages = get_pages()\n",
    "data = {}\n",
    "\n",
    "for page in pages:\n",
    "    page_id = page[\"id\"]\n",
    "    props = page[\"properties\"]\n",
    "    sourcer_name = get_sourcer_name(props)\n",
    "    sourcing_week = get_sourcing_week(props)\n",
    "    contacts = get_contacts(props)\n",
    "    company = get_company(props)\n",
    "    data[page_id] = {'Name': sourcer_name, 'Week': sourcing_week, 'Number': contacts, 'Company': company}"
   ]
  },
  {
   "cell_type": "code",
   "execution_count": 16,
   "metadata": {},
   "outputs": [],
   "source": [
    "df = pd.DataFrame.from_dict(data, orient='index')\n",
    "\n",
    "file = 'data.csv'\n",
    "counter = 0\n",
    "while os.path.isfile(file):\n",
    "    counter += 1\n",
    "    file = f'data{counter}.csv'\n",
    "df.to_csv(file)"
   ]
  },
  {
   "cell_type": "code",
   "execution_count": null,
   "metadata": {},
   "outputs": [],
   "source": []
  }
 ],
 "metadata": {
  "kernelspec": {
   "display_name": "Python 3",
   "language": "python",
   "name": "python3"
  },
  "language_info": {
   "codemirror_mode": {
    "name": "ipython",
    "version": 3
   },
   "file_extension": ".py",
   "mimetype": "text/x-python",
   "name": "python",
   "nbconvert_exporter": "python",
   "pygments_lexer": "ipython3",
   "version": "3.12.4"
  }
 },
 "nbformat": 4,
 "nbformat_minor": 2
}
